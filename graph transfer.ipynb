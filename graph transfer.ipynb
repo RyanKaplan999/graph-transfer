{
  "nbformat": 4,
  "nbformat_minor": 0,
  "metadata": {
    "colab": {
      "provenance": [],
      "collapsed_sections": []
    },
    "kernelspec": {
      "name": "python3",
      "display_name": "Python 3"
    },
    "language_info": {
      "name": "python"
    },
    "accelerator": "GPU"
  },
  "cells": [
    {
      "cell_type": "code",
      "source": [
        "import torch\n",
        "\n",
        "def format_pytorch_version(version):\n",
        "    return version.split('+')[0]\n",
        "\n",
        "def format_cuda_version(version):\n",
        "    return 'cu' + version.replace('.', '')\n",
        "\n",
        "TORCH_version = torch.__version__\n",
        "TORCH = format_pytorch_version(TORCH_version)\n",
        "CUDA_version = torch.version.cuda\n",
        "CUDA = format_cuda_version(CUDA_version)"
      ],
      "metadata": {
        "id": "mc1ptwP5xHwq"
      },
      "execution_count": 1,
      "outputs": []
    },
    {
      "cell_type": "code",
      "execution_count": 2,
      "metadata": {
        "colab": {
          "base_uri": "https://localhost:8080/"
        },
        "id": "XkU1ucn9xFtC",
        "outputId": "bc9354bd-dbef-4527-ac95-16cdb9928c8b"
      },
      "outputs": [
        {
          "output_type": "stream",
          "name": "stdout",
          "text": [
            "Looking in indexes: https://pypi.org/simple, https://us-python.pkg.dev/colab-wheels/public/simple/\n",
            "Looking in links: https://pytorch-geometric.com/whl/torch-1.12.1+cu113.html\n",
            "Requirement already satisfied: torch-scatter in /usr/local/lib/python3.7/dist-packages (2.0.9)\n",
            "Looking in indexes: https://pypi.org/simple, https://us-python.pkg.dev/colab-wheels/public/simple/\n",
            "Looking in links: https://pytorch-geometric.com/whl/torch-1.12.1+cu113.html\n",
            "Requirement already satisfied: torch-sparse in /usr/local/lib/python3.7/dist-packages (0.6.15)\n",
            "Requirement already satisfied: scipy in /usr/local/lib/python3.7/dist-packages (from torch-sparse) (1.7.3)\n",
            "Requirement already satisfied: numpy<1.23.0,>=1.16.5 in /usr/local/lib/python3.7/dist-packages (from scipy->torch-sparse) (1.21.6)\n",
            "Looking in indexes: https://pypi.org/simple, https://us-python.pkg.dev/colab-wheels/public/simple/\n",
            "Looking in links: https://pytorch-geometric.com/whl/torch-1.12.1+cu113.html\n",
            "Requirement already satisfied: torch-cluster in /usr/local/lib/python3.7/dist-packages (1.6.0)\n",
            "Looking in indexes: https://pypi.org/simple, https://us-python.pkg.dev/colab-wheels/public/simple/\n",
            "Looking in links: https://pytorch-geometric.com/whl/torch-1.12.1+cu113.html\n",
            "Requirement already satisfied: torch-spline-conv in /usr/local/lib/python3.7/dist-packages (1.2.1)\n",
            "Looking in indexes: https://pypi.org/simple, https://us-python.pkg.dev/colab-wheels/public/simple/\n",
            "Requirement already satisfied: torch-geometric in /usr/local/lib/python3.7/dist-packages (2.1.0.post1)\n",
            "Requirement already satisfied: requests in /usr/local/lib/python3.7/dist-packages (from torch-geometric) (2.23.0)\n",
            "Requirement already satisfied: jinja2 in /usr/local/lib/python3.7/dist-packages (from torch-geometric) (2.11.3)\n",
            "Requirement already satisfied: tqdm in /usr/local/lib/python3.7/dist-packages (from torch-geometric) (4.64.1)\n",
            "Requirement already satisfied: pyparsing in /usr/local/lib/python3.7/dist-packages (from torch-geometric) (3.0.9)\n",
            "Requirement already satisfied: scikit-learn in /usr/local/lib/python3.7/dist-packages (from torch-geometric) (1.0.2)\n",
            "Requirement already satisfied: numpy in /usr/local/lib/python3.7/dist-packages (from torch-geometric) (1.21.6)\n",
            "Requirement already satisfied: scipy in /usr/local/lib/python3.7/dist-packages (from torch-geometric) (1.7.3)\n",
            "Requirement already satisfied: MarkupSafe>=0.23 in /usr/local/lib/python3.7/dist-packages (from jinja2->torch-geometric) (2.0.1)\n",
            "Requirement already satisfied: urllib3!=1.25.0,!=1.25.1,<1.26,>=1.21.1 in /usr/local/lib/python3.7/dist-packages (from requests->torch-geometric) (1.24.3)\n",
            "Requirement already satisfied: certifi>=2017.4.17 in /usr/local/lib/python3.7/dist-packages (from requests->torch-geometric) (2022.9.24)\n",
            "Requirement already satisfied: idna<3,>=2.5 in /usr/local/lib/python3.7/dist-packages (from requests->torch-geometric) (2.10)\n",
            "Requirement already satisfied: chardet<4,>=3.0.2 in /usr/local/lib/python3.7/dist-packages (from requests->torch-geometric) (3.0.4)\n",
            "Requirement already satisfied: joblib>=0.11 in /usr/local/lib/python3.7/dist-packages (from scikit-learn->torch-geometric) (1.2.0)\n",
            "Requirement already satisfied: threadpoolctl>=2.0.0 in /usr/local/lib/python3.7/dist-packages (from scikit-learn->torch-geometric) (3.1.0)\n",
            "Looking in indexes: https://pypi.org/simple, https://us-python.pkg.dev/colab-wheels/public/simple/\n",
            "Requirement already satisfied: torch_geometric in /usr/local/lib/python3.7/dist-packages (2.1.0.post1)\n",
            "Requirement already satisfied: pyparsing in /usr/local/lib/python3.7/dist-packages (from torch_geometric) (3.0.9)\n",
            "Requirement already satisfied: scipy in /usr/local/lib/python3.7/dist-packages (from torch_geometric) (1.7.3)\n",
            "Requirement already satisfied: jinja2 in /usr/local/lib/python3.7/dist-packages (from torch_geometric) (2.11.3)\n",
            "Requirement already satisfied: scikit-learn in /usr/local/lib/python3.7/dist-packages (from torch_geometric) (1.0.2)\n",
            "Requirement already satisfied: numpy in /usr/local/lib/python3.7/dist-packages (from torch_geometric) (1.21.6)\n",
            "Requirement already satisfied: tqdm in /usr/local/lib/python3.7/dist-packages (from torch_geometric) (4.64.1)\n",
            "Requirement already satisfied: requests in /usr/local/lib/python3.7/dist-packages (from torch_geometric) (2.23.0)\n",
            "Requirement already satisfied: MarkupSafe>=0.23 in /usr/local/lib/python3.7/dist-packages (from jinja2->torch_geometric) (2.0.1)\n",
            "Requirement already satisfied: chardet<4,>=3.0.2 in /usr/local/lib/python3.7/dist-packages (from requests->torch_geometric) (3.0.4)\n",
            "Requirement already satisfied: urllib3!=1.25.0,!=1.25.1,<1.26,>=1.21.1 in /usr/local/lib/python3.7/dist-packages (from requests->torch_geometric) (1.24.3)\n",
            "Requirement already satisfied: idna<3,>=2.5 in /usr/local/lib/python3.7/dist-packages (from requests->torch_geometric) (2.10)\n",
            "Requirement already satisfied: certifi>=2017.4.17 in /usr/local/lib/python3.7/dist-packages (from requests->torch_geometric) (2022.9.24)\n",
            "Requirement already satisfied: threadpoolctl>=2.0.0 in /usr/local/lib/python3.7/dist-packages (from scikit-learn->torch_geometric) (3.1.0)\n",
            "Requirement already satisfied: joblib>=0.11 in /usr/local/lib/python3.7/dist-packages (from scikit-learn->torch_geometric) (1.2.0)\n"
          ]
        }
      ],
      "source": [
        "!pip install torch-scatter -f https://pytorch-geometric.com/whl/torch-{TORCH}+{CUDA}.html\n",
        "!pip install torch-sparse -f https://pytorch-geometric.com/whl/torch-{TORCH}+{CUDA}.html\n",
        "!pip install torch-cluster -f https://pytorch-geometric.com/whl/torch-{TORCH}+{CUDA}.html\n",
        "!pip install torch-spline-conv -f https://pytorch-geometric.com/whl/torch-{TORCH}+{CUDA}.html\n",
        "!pip install torch-geometric\n",
        "!pip install torch_geometric"
      ]
    },
    {
      "cell_type": "code",
      "source": [
        "import torch_geometric\n",
        "\n",
        "torch_geometric.__version__\n"
      ],
      "metadata": {
        "colab": {
          "base_uri": "https://localhost:8080/",
          "height": 35
        },
        "id": "nPgvoKnlyEGN",
        "outputId": "cd8e4321-b30b-47c3-9047-d077ff86aa09"
      },
      "execution_count": 3,
      "outputs": [
        {
          "output_type": "execute_result",
          "data": {
            "text/plain": [
              "'2.1.0'"
            ],
            "application/vnd.google.colaboratory.intrinsic+json": {
              "type": "string"
            }
          },
          "metadata": {},
          "execution_count": 3
        }
      ]
    },
    {
      "cell_type": "code",
      "source": [
        "from re import I\n",
        "from torch_geometric.data import Data \n",
        "\n",
        "from torch_geometric.datasets import TUDataset\n",
        "\n",
        "import torchvision.transforms as transforms\n",
        "\n",
        "import numpy as np\n",
        "import torch\n",
        "import torchvision\n",
        "import torch.optim as optim\n",
        "import time\n",
        "import torch.nn as nn\n",
        "from torchvision import models\n",
        "import matplotlib.pyplot as plt\n",
        "import tensorflow as tf\n",
        "\n",
        "# check GPU availability\n",
        "device = torch.device(\"cuda:0\" if torch.cuda.is_available() else \"cpu\")\n",
        "print(device)\n",
        "\n",
        "# training set improves but test set stays stable at >95% accuracy, (which is nice at least)\n",
        "#dataset = TUDataset(root='/tmp/AIDS', name='AIDS')\n",
        "#dataset = dataset.shuffle()\n",
        "\n",
        "# frankenstein really seems to overfit\n",
        "#dataset = TUDataset(root='/tmp/FRANKENSTEIN', name='FRANKENSTEIN')\n",
        "#dataset = dataset.shuffle()\n",
        "\n",
        "# enzymes works pretty well (much fewer examples, but 6 classes)\n",
        "#dataset = TUDataset(root='/tmp/ENZYMES', name='ENZYMES')\n",
        "#dataset = dataset.shuffle()\n",
        "\n",
        "# also shows real improvement, this one has 100 classes\n",
        "dataset = TUDataset(root='/tmp/COIL-DEL', name='COIL-DEL')\n",
        "dataset = dataset.shuffle()\n",
        "\n",
        "# to divide evenly, make sure it's divisible by 32\n",
        "dataset = dataset[(len(dataset) % 32):]\n",
        "\n",
        "print(dataset)\n",
        "print(\"length of set\", len(dataset))\n",
        "print(\"# of classes\", dataset.num_classes)\n",
        "\n",
        "max = 0\n",
        "for data in dataset:\n",
        "  if len(data.x) > max:\n",
        "    max = len(data.x)\n",
        "print(\"Max size of adjacency matrix:\", max, \"x\", max)\n",
        "\n",
        "print(\"Initializing graph to image\")\n",
        "\n",
        "# convert our graph data to \"images\" containing the adjacency matrix\n",
        "batchlist = []\n",
        "batch_targets = []\n",
        "for k in range(int(len(dataset) / 32)):\n",
        "\n",
        "  batch = np.zeros([32,3,224,224])\n",
        "  targets = np.zeros([32])\n",
        "\n",
        "  for j in range(32):\n",
        "\n",
        "    index = j + (k * 32)\n",
        "    graph = dataset[index]\n",
        "\n",
        "    adj_matrix = np.zeros([3, 224, 224])\n",
        "\n",
        "    num_nodes = len(graph.x)\n",
        "    num_edges = len(graph.edge_index[0])\n",
        "    offset = int((224 - num_nodes) / 2)\n",
        "\n",
        "    # for each edge, initialize its entry in the adjaceny matrix as a colored pixel\n",
        "    for i in range(num_edges):\n",
        "      x = graph.edge_index[0][i]\n",
        "      y = graph.edge_index[1][i]\n",
        "      adj_matrix[0][offset + x][offset + y] = 1\n",
        "      adj_matrix[1][offset + x][offset + y] = 1\n",
        "      adj_matrix[2][offset + x][offset + y] = 1\n",
        "\n",
        "    batch[j] = adj_matrix\n",
        "    targets[j] = graph.y.item()\n",
        "\n",
        "  # have to convert them to tensors so it actually works\n",
        "  batch = torch.from_numpy(batch)\n",
        "  batchlist.append(batch)\n",
        "  targets = torch.from_numpy(targets)\n",
        "  batch_targets.append(targets)\n",
        "\n",
        "print(\"total # of batches\", len(batchlist))\n",
        "\n",
        "# splits it 90/10 train/test\n",
        "cutoff = int(len(batchlist) * 0.9)\n",
        "train_batches = batchlist[:cutoff]\n",
        "test_batches = batchlist[cutoff:]\n",
        "train_targets = batch_targets[:cutoff]\n",
        "test_targets = batch_targets[cutoff:]\n",
        "print(len(train_batches), \"training batches\")\n",
        "print(len(test_batches), \"test batches\")\n",
        "\n",
        "# now we get into the actual transfer learning!\n",
        "\n",
        "vgg16 = models.vgg16(pretrained=True)\n",
        "vgg16.to(device)\n",
        "vgg16.classifier[6].out_features = dataset.num_classes\n",
        "\n",
        "# freeze convolution weights\n",
        "for param in vgg16.features.parameters():\n",
        "    param.requires_grad = False\n",
        "\n",
        "# optimizer\n",
        "optimizer = optim.SGD(vgg16.classifier.parameters(), lr=0.001, momentum=0.9)\n",
        "# loss function\n",
        "criterion = nn.CrossEntropyLoss()\n",
        "\n",
        "# validation function\n",
        "def validate(model, test_batches):\n",
        "    model.eval()\n",
        "    val_running_loss = 0.0\n",
        "    val_running_correct = 0\n",
        "    for i in range(len(test_batches)):\n",
        "\n",
        "        # have to make them float for the output to work\n",
        "        data = test_batches[i].to(device=device, dtype=torch.float)\n",
        "        target = test_targets[i].to(device=device, dtype=torch.float)\n",
        "        output = model(data)\n",
        "\n",
        "        # have to make them ints for the loss to work\n",
        "        target=target.to(torch.int64)\n",
        "\n",
        "        loss = criterion(output, target)\n",
        "\n",
        "        val_running_loss += loss.item()\n",
        "        _, preds = torch.max(output.data, 1)\n",
        "        val_running_correct += (preds == target).sum().item()\n",
        "\n",
        "    val_loss = val_running_loss / (len(test_batches) * 32)\n",
        "    val_accuracy = 100. * val_running_correct / (len(test_batches) * 32)\n",
        "    print(f'Val Loss: {val_loss:.4f}, Val Acc: {val_accuracy:.2f}')\n",
        "\n",
        "    return val_loss, val_accuracy\n",
        "\n",
        "# training function\n",
        "def fit(model, train_batches):\n",
        "    model.train()\n",
        "    train_running_loss = 0.0\n",
        "    train_running_correct = 0\n",
        "    for i in range(len(train_batches)):\n",
        "\n",
        "        # have to make them floats for the output to work\n",
        "        data = train_batches[i].to(device=device, dtype=torch.float)\n",
        "        target = train_targets[i].to(device=device, dtype=torch.float)\n",
        "\n",
        "        optimizer.zero_grad()\n",
        "        output = model(data)\n",
        "        \n",
        "        # have to make them ints for the loss to work\n",
        "        target=target.to(torch.int64)\n",
        "\n",
        "        loss = criterion(output, target)\n",
        "\n",
        "        train_running_loss += loss.item()\n",
        "        _, preds = torch.max(output.data, 1)\n",
        "        train_running_correct += (preds == target).sum().item()\n",
        "        loss.backward()\n",
        "        optimizer.step()\n",
        "    train_loss = train_running_loss / (len(train_batches) * 32)\n",
        "    train_accuracy = 100. * train_running_correct / (len(train_batches) * 32)\n",
        "    print(f'Train Loss: {train_loss:.4f}, Train Acc: {train_accuracy:.2f}')\n",
        "\n",
        "    return train_loss, train_accuracy\n",
        "  \n",
        "train_loss , train_accuracy = [], []\n",
        "val_loss , val_accuracy = [], []\n",
        "start = time.time()\n",
        "\n",
        "# train our chosen model\n",
        "for epoch in range(5):\n",
        "    print('epoch',epoch,\":\")\n",
        "    train_epoch_loss, train_epoch_accuracy = fit(vgg16, train_batches)\n",
        "    val_epoch_loss, val_epoch_accuracy = validate(vgg16, test_batches)\n",
        "    train_loss.append(train_epoch_loss)\n",
        "    train_accuracy.append(train_epoch_accuracy)\n",
        "    val_loss.append(val_epoch_loss)\n",
        "    val_accuracy.append(val_epoch_accuracy)\n",
        "\n",
        "end = time.time()\n",
        "print(round(((end-start)/60),1) , 'minutes')\n",
        "\n",
        "# plot our accuracy and loss\n",
        "plt.figure(figsize=(10, 7))\n",
        "plt.plot(train_accuracy, color='green', label='train accuracy')\n",
        "plt.plot(val_accuracy, color='blue', label='validataion accuracy')\n",
        "plt.legend()\n",
        "plt.savefig('accuracy.png')\n",
        "plt.show()\n",
        "\n",
        "plt.figure(figsize=(10, 7))\n",
        "plt.plot(train_loss, color='orange', label='train loss')\n",
        "plt.plot(val_loss, color='red', label='validataion loss')\n",
        "plt.legend()\n",
        "plt.savefig('loss.png')\n",
        "plt.show()"
      ],
      "metadata": {
        "id": "54aTQ2Utyaa5",
        "colab": {
          "base_uri": "https://localhost:8080/",
          "height": 1000
        },
        "outputId": "bd084efa-658b-40bc-a3f6-c958fcb4589b"
      },
      "execution_count": 4,
      "outputs": [
        {
          "output_type": "stream",
          "name": "stdout",
          "text": [
            "cuda:0\n"
          ]
        },
        {
          "output_type": "stream",
          "name": "stderr",
          "text": [
            "Downloading https://www.chrsmrrs.com/graphkerneldatasets/COIL-DEL.zip\n",
            "Extracting /tmp/COIL-DEL/COIL-DEL/COIL-DEL.zip\n",
            "Processing...\n",
            "Done!\n"
          ]
        },
        {
          "output_type": "stream",
          "name": "stdout",
          "text": [
            "COIL-DEL(3872)\n",
            "length of set 3872\n",
            "# of classes 100\n",
            "Max size of adjacency matrix: 77 x 77\n",
            "Initializing graph to image\n",
            "total # of batches 121\n",
            "108 training batches\n",
            "13 test batches\n"
          ]
        },
        {
          "output_type": "stream",
          "name": "stderr",
          "text": [
            "/usr/local/lib/python3.7/dist-packages/torchvision/models/_utils.py:209: UserWarning: The parameter 'pretrained' is deprecated since 0.13 and will be removed in 0.15, please use 'weights' instead.\n",
            "  f\"The parameter '{pretrained_param}' is deprecated since 0.13 and will be removed in 0.15, \"\n",
            "/usr/local/lib/python3.7/dist-packages/torchvision/models/_utils.py:223: UserWarning: Arguments other than a weight enum or `None` for 'weights' are deprecated since 0.13 and will be removed in 0.15. The current behavior is equivalent to passing `weights=VGG16_Weights.IMAGENET1K_V1`. You can also use `weights=VGG16_Weights.DEFAULT` to get the most up-to-date weights.\n",
            "  warnings.warn(msg)\n"
          ]
        },
        {
          "output_type": "stream",
          "name": "stdout",
          "text": [
            "training data is 3456 long\n",
            "epoch 0 :\n",
            "Train Loss: 0.1612, Train Acc: 1.53\n",
            "Val Loss: 0.1413, Val Acc: 3.37\n",
            "epoch 1 :\n",
            "Train Loss: 0.1407, Train Acc: 4.43\n",
            "Val Loss: 0.1315, Val Acc: 7.45\n",
            "epoch 2 :\n",
            "Train Loss: 0.1311, Train Acc: 5.58\n",
            "Val Loss: 0.1240, Val Acc: 6.25\n",
            "epoch 3 :\n",
            "Train Loss: 0.1236, Train Acc: 6.71\n",
            "Val Loss: 0.1193, Val Acc: 7.21\n",
            "epoch 4 :\n",
            "Train Loss: 0.1199, Train Acc: 7.55\n",
            "Val Loss: 0.1163, Val Acc: 7.21\n",
            "1.7 minutes\n"
          ]
        },
        {
          "output_type": "display_data",
          "data": {
            "text/plain": [
              "<Figure size 720x504 with 1 Axes>"
            ],
            "image/png": "[encoded data removed]"
          },
          "metadata": {
            "needs_background": "light"
          }
        },
        {
          "output_type": "display_data",
          "data": {
            "text/plain": [
              "<Figure size 720x504 with 1 Axes>"
            ],
            "image/png": "[encoded data removed]"
          },
          "metadata": {
            "needs_background": "light"
          }
        }
      ]
    }
  ]
}